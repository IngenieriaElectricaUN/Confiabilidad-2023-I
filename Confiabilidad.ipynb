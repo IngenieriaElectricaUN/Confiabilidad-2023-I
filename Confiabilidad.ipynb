{
  "nbformat": 4,
  "nbformat_minor": 0,
  "metadata": {
    "colab": {
      "provenance": []
    },
    "kernelspec": {
      "name": "python3",
      "display_name": "Python 3"
    },
    "language_info": {
      "name": "python"
    }
  },
  "cells": [
    {
      "cell_type": "markdown",
      "source": [
        "<a href=\"https://colab.research.google.com/drive/1Q1_7MxzTXFi3uNsgazZ0XJnkHOmL8Jea?usp=sharing\"> <img src='https://colab.research.google.com/assets/colab-badge.svg' /> </a>\n",
        "\n",
        "\n",
        "## Universidad Nacional de Colombia - Sede Manizales\n",
        "### Confiabilidad de sistemas eléctricos\n",
        "### **Profesor: Juan David Marín Jiménez** \n",
        "\n",
        "\n",
        "\n",
        "---\n",
        "\n",
        "\n",
        "\n",
        "# Objetivos de este Notebook\n",
        "\n",
        "* Explicar conceptos básicos de probabilidad y estadística aplicada a la Ingeniería Eléctrica\n",
        "* Aplicar ejercicios básicos de probabilidad y estadística\n",
        "\n",
        "\n",
        "# Tabla de Contenido\n",
        "\n",
        "1. [Introducción](#section1)\n",
        "\n",
        "2. [Definiciones básicas](#section2)\n",
        "\n",
        "3. [Probabilidad condicional](#section3)\n",
        "\n",
        "4. [El caso continuo y la distribución normal](#section4)\n",
        "\n",
        "5. [Medidas de tendencia central y de variabilidad](#section5)\n",
        "\n",
        "6. [Dos grandes Teoremas](#section6)\n",
        "\n",
        "7. [Material adicional](#section7)\n"
      ],
      "metadata": {
        "id": "JiDs-hWHZ2du"
      }
    },
    {
      "cell_type": "markdown",
      "source": [
        "<a id='section1'></a>\n",
        "# 1. Introducción"
      ],
      "metadata": {
        "id": "XN8foUSPa3A8"
      }
    },
    {
      "cell_type": "markdown",
      "source": [
        "## Definición de probabilidad\n",
        "\n",
        "La probabilidad es un concepto matemático **muy útil para modelar el mundo**, ya que nos permite cuantificar y formalizar nuestro conocimiento sobre **eventos futuros cuyo resultado es incierto**. Incluso en un mundo físico completamente determinístico, la probabilidad sigue siendo fundamental en nuestra descripción del mismo.\n",
        "\n",
        "Básicamente, la probabilidad se refiere a la **predicción de la ocurrencia o no ocurrencia de un evento futuro**, como por ejemplo si lloverá o no, o cuál será la temperatura en un momento determinado. Nos preguntamos cuál es la probabilidad de que nuestra observación sea \"sí se produjo el evento\", \"no se produjo el evento\" o \"el valor de la variable T es 25,1°C\".\n",
        "\n",
        "Nuestro objetivo inicial es comprender el significado de estas probabilidades y cómo se aplican a diferentes situaciones en el mundo real."
      ],
      "metadata": {
        "id": "baFErl1ya-A9"
      }
    },
    {
      "cell_type": "markdown",
      "source": [
        "## La probabilidad y la estadística\n",
        "\n",
        "La Teoría de Probabilidades y la Estadística **son disciplinas matemáticas diferentes**, y aunque hay investigadores que se dedican exclusivamente a una u otra, ***desde el punto de vista de la ciencia de datos***, ***LA PRINCIPAL*** aplicación de la Teoría de Probabilidades es la Estadística. La Teoría de Probabilidades se enfoca en establecer un **modelo probabilístico del mundo**, mientras que **la Estadística se basa en los datos para reconstruir el mejor modelo probabilístico posible**. \n",
        "\n",
        "\n",
        "\n",
        "En resumen, en la Teoría de Probabilidades asumimos un conocimiento previo exacto sobre las probabilidades, mientras que en Estadística nuestro punto de partida son los datos."
      ],
      "metadata": {
        "id": "CdPCt6drgVap"
      }
    },
    {
      "cell_type": "markdown",
      "source": [
        "## Ejemplo\n",
        "\n",
        "Existen diversas maneras de comprender cómo la probabilidad cuantifica nuestra incertidumbre. Para evitar abordar de entrada una cuestión filosófica potencialmente complicada, comencemos por algo que tal vez nos resulte más familiar: una función de Python que genere \"números aleatorios\", como la función randint de la librería numpy.random.\n",
        "\n",
        "Utilizando esta función, podemos realizar el experimento de lanzar repetidamente un dado de seis caras y registrar los resultados. "
      ],
      "metadata": {
        "id": "3RgjdlNqhfLO"
      }
    },
    {
      "cell_type": "code",
      "source": [
        "import numpy as np\n",
        "import matplotlib.pyplot as plt\n",
        "import scipy.stats as st\n",
        "from scipy.optimize import minimize"
      ],
      "metadata": {
        "id": "08eReXiGiNjm"
      },
      "execution_count": null,
      "outputs": []
    },
    {
      "cell_type": "code",
      "source": [
        "# Hagamos un experimento! Tiremos un dado 1000 veces.\n",
        "\n",
        "n_experimentos = 1000\n",
        "resultados = np.random.randint(1, 7, size=n_experimentos)\n",
        "valores = np.arange(1, 7)\n",
        "conteos = np.bincount(resultados)[1:]\n",
        "\n",
        "plt.bar(valores, conteos)\n",
        "plt.title(\"Resultados de lanzar un dado\")\n",
        "plt.xlabel(\"Valor obtenido\")\n",
        "plt.ylabel(\"Frecuencia\")\n",
        "plt.show()\n",
        "# Veamos cuántas veces se obtuvo cada cosa con un histograma\n",
        "\n",
        " "
      ],
      "metadata": {
        "colab": {
          "base_uri": "https://localhost:8080/",
          "height": 295
        },
        "id": "_zuxtc11h9Da",
        "outputId": "682e7ced-7cdb-40a6-b46b-6b780f2b8cec"
      },
      "execution_count": null,
      "outputs": [
        {
          "output_type": "display_data",
          "data": {
            "text/plain": [
              "<Figure size 432x288 with 1 Axes>"
            ],
            "image/png": "[encoded data removed]"
          },
          "metadata": {
            "needs_background": "light"
          }
        }
      ]
    },
    {
      "cell_type": "markdown",
      "source": [
        "Vemos que salen más o menos en iguales proporciones, pero no exactamente.\n",
        "\n",
        "Observemos algunas cosas:\n",
        "* Cada vez que repetimos las 1000 tiradas, obtenemos algo ligeramente distinto (¡probarlo!). ¿Quiere eso decir que las probabilidades de sacar un cierto número están fluctuando en el tiempo? ¿O siempre es la misma probabilidad, por más que veamos resultados distintos? \n",
        "* Si repetimos con muchas más tiradas, vamos a ver que el resultado se hace mucho más consistente:"
      ],
      "metadata": {
        "id": "uo11f3OmjpPK"
      }
    },
    {
      "cell_type": "code",
      "execution_count": null,
      "metadata": {
        "id": "DbY7W7wCZhtz"
      },
      "outputs": [],
      "source": []
    },
    {
      "cell_type": "markdown",
      "source": [
        "Vemos que las fracciones son todas aproximadamente iguales a $0,16$, que es aproximadamente lo mismo que $1/6 = 0,166666...$.\n",
        "\n",
        "La fracción de ocurrencias está acercándose a un cierto valor que no fluctúa con cada repetición del experimento (o con cada *realización*, que es la palabra que se usa en la jerga probabilística). Vendría bien ponerle nombre a esos números a los que tienden las alturas del histograma normalizado, ¿verdad? Bueno, podemos ponerle... Sí. Probabilidad.\n",
        "\n",
        "La teoría de probabilidades nos sirve para definir de forma abstracta qué es una probabilidad. Puede que al principio no sea claro que la noción abstracta es la misma que estamos viendo acá, pero quédense tranquilos: la teoría termina demostrando matemáticamente que esta noción de probabilidad como \"eso a lo que tiende el histograma\" coincide con la definición abstracta. La teoría demuestra, por ejemplo, que a medida que tomo más y más muestras, el histograma normalizado se va pareciendo cada vez más a la distribución de probabilidad de nuestra variable aleatoria. Esto se relaciona con un teorema importante que mencionaremos más adelante: la Ley de los Grandes Números.\n",
        "\n",
        "Pero me estoy adelantando. Ya usé varias palabras que todavía no vimos: \"distribución de probabilidad\", \"variable aleatoria\"... Vayamos a ver bien qué son esas cosas. Pero no dejen los dados muy lejos que ya les vamos a echar mano de nuevo."
      ],
      "metadata": {
        "id": "_kv62q8BjxJn"
      }
    }
  ]
}